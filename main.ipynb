{
 "cells": [
  {
   "cell_type": "markdown",
   "metadata": {},
   "source": [
    "# Imports"
   ]
  },
  {
   "cell_type": "code",
   "execution_count": 16,
   "metadata": {},
   "outputs": [],
   "source": [
    "import pandas as pd\n",
    "import arff\n",
    "from sklearn.preprocessing import MinMaxScaler, StandardScaler, Normalizer, Binarizer, scale, OneHotEncoder, LabelEncoder"
   ]
  },
  {
   "cell_type": "markdown",
   "metadata": {},
   "source": [
    "# Read data"
   ]
  },
  {
   "cell_type": "code",
   "execution_count": 9,
   "metadata": {},
   "outputs": [],
   "source": [
    "with open('data/phpPrh7lv.arff', 'r') as file:\n",
    "    arff_data = arff.load(file)\n",
    "\n",
    "data = pd.DataFrame(arff_data['data'], columns=[i[0] for i in arff_data['attributes']])"
   ]
  },
  {
   "cell_type": "markdown",
   "metadata": {},
   "source": [
    "# Pré-processamento"
   ]
  },
  {
   "cell_type": "code",
   "execution_count": 18,
   "metadata": {},
   "outputs": [
    {
     "data": {
      "text/plain": [
       "array([[0.44098206, 0.50206612, 0.5707804 , ..., 0.18930164, 0.34515017,\n",
       "        0.        ],\n",
       "       [0.40509915, 0.44628099, 0.66243194, ..., 0.03288302, 0.21516494,\n",
       "        0.        ],\n",
       "       [0.34938621, 0.34710744, 0.87931034, ..., 0.25145302, 0.1506647 ,\n",
       "        0.        ],\n",
       "       ...,\n",
       "       [0.24645892, 0.25826446, 0.7277677 , ..., 0.98166664, 0.26440177,\n",
       "        1.        ],\n",
       "       [0.11803588, 0.16528926, 0.39927405, ..., 0.36834441, 0.25849335,\n",
       "        1.        ],\n",
       "       [0.16147309, 0.19214876, 0.54718693, ..., 0.63346292, 0.26784835,\n",
       "        1.        ]])"
      ]
     },
     "execution_count": 18,
     "metadata": {},
     "output_type": "execute_result"
    }
   ],
   "source": [
    "data_sem_nan = data.dropna()\n",
    "scaler = MinMaxScaler(feature_range=(0,1))\n",
    "scaled_data = scaler.fit_transform(data)\n",
    "\n",
    "scaled_data\n"
   ]
  }
 ],
 "metadata": {
  "kernelspec": {
   "display_name": "Python 3",
   "language": "python",
   "name": "python3"
  },
  "language_info": {
   "codemirror_mode": {
    "name": "ipython",
    "version": 3
   },
   "file_extension": ".py",
   "mimetype": "text/x-python",
   "name": "python",
   "nbconvert_exporter": "python",
   "pygments_lexer": "ipython3",
   "version": "3.10.12"
  }
 },
 "nbformat": 4,
 "nbformat_minor": 2
}
