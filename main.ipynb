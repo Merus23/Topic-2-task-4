{
 "cells": [
  {
   "cell_type": "markdown",
   "metadata": {},
   "source": [
    "# Imports"
   ]
  },
  {
   "cell_type": "code",
   "execution_count": 27,
   "metadata": {},
   "outputs": [],
   "source": [
    "import pandas as pd\n",
    "import arff\n",
    "from sklearn.preprocessing import MinMaxScaler, StandardScaler, Normalizer, Binarizer, scale, OneHotEncoder, LabelEncoder\n",
    "from sklearn.model_selection import train_test_split\n",
    "from sklearn.tree import DecisionTreeClassifier\n",
    "from sklearn.naive_bayes import GaussianNB\n",
    "from sklearn.svm import SVC\n",
    "from sklearn.metrics import accuracy_score\n",
    "\n"
   ]
  },
  {
   "cell_type": "markdown",
   "metadata": {},
   "source": [
    "# Read data\n",
    "\n",
    "* **English version**: This code snippet loads a file in ARFF format ('data/phpPrh7lv.arff'), reads its contents and stores them in a data structure using the arff library. It then creates a Pandas DataFrame with the data extracted from the ARFF file, using the columns specified in the attributes file.\n",
    "\n",
    "* **Portuguese version**: Este trecho de código carrega um arquivo no formato ARFF ('data/phpPrh7lv.arff'), lê seu conteúdo e o armazena em uma estrutura de dados usando a biblioteca arff. Em seguida, ele cria um DataFrame do Pandas com os dados extraídos do arquivo ARFF, usando as colunas especificadas no arquivo de atributos."
   ]
  },
  {
   "cell_type": "code",
   "execution_count": 28,
   "metadata": {},
   "outputs": [
    {
     "data": {
      "text/html": [
       "<div>\n",
       "<style scoped>\n",
       "    .dataframe tbody tr th:only-of-type {\n",
       "        vertical-align: middle;\n",
       "    }\n",
       "\n",
       "    .dataframe tbody tr th {\n",
       "        vertical-align: top;\n",
       "    }\n",
       "\n",
       "    .dataframe thead th {\n",
       "        text-align: right;\n",
       "    }\n",
       "</style>\n",
       "<table border=\"1\" class=\"dataframe\">\n",
       "  <thead>\n",
       "    <tr style=\"text-align: right;\">\n",
       "      <th></th>\n",
       "      <th>V1</th>\n",
       "      <th>V2</th>\n",
       "      <th>V3</th>\n",
       "      <th>V4</th>\n",
       "      <th>V5</th>\n",
       "      <th>V6</th>\n",
       "      <th>V7</th>\n",
       "      <th>Class</th>\n",
       "    </tr>\n",
       "  </thead>\n",
       "  <tbody>\n",
       "    <tr>\n",
       "      <th>0</th>\n",
       "      <td>15.26</td>\n",
       "      <td>14.84</td>\n",
       "      <td>0.8710</td>\n",
       "      <td>5.763</td>\n",
       "      <td>3.312</td>\n",
       "      <td>2.221</td>\n",
       "      <td>5.220</td>\n",
       "      <td>1</td>\n",
       "    </tr>\n",
       "    <tr>\n",
       "      <th>1</th>\n",
       "      <td>14.88</td>\n",
       "      <td>14.57</td>\n",
       "      <td>0.8811</td>\n",
       "      <td>5.554</td>\n",
       "      <td>3.333</td>\n",
       "      <td>1.018</td>\n",
       "      <td>4.956</td>\n",
       "      <td>1</td>\n",
       "    </tr>\n",
       "    <tr>\n",
       "      <th>2</th>\n",
       "      <td>14.29</td>\n",
       "      <td>14.09</td>\n",
       "      <td>0.9050</td>\n",
       "      <td>5.291</td>\n",
       "      <td>3.337</td>\n",
       "      <td>2.699</td>\n",
       "      <td>4.825</td>\n",
       "      <td>1</td>\n",
       "    </tr>\n",
       "    <tr>\n",
       "      <th>3</th>\n",
       "      <td>13.84</td>\n",
       "      <td>13.94</td>\n",
       "      <td>0.8955</td>\n",
       "      <td>5.324</td>\n",
       "      <td>3.379</td>\n",
       "      <td>2.259</td>\n",
       "      <td>4.805</td>\n",
       "      <td>1</td>\n",
       "    </tr>\n",
       "    <tr>\n",
       "      <th>4</th>\n",
       "      <td>16.14</td>\n",
       "      <td>14.99</td>\n",
       "      <td>0.9034</td>\n",
       "      <td>5.658</td>\n",
       "      <td>3.562</td>\n",
       "      <td>1.355</td>\n",
       "      <td>5.175</td>\n",
       "      <td>1</td>\n",
       "    </tr>\n",
       "    <tr>\n",
       "      <th>...</th>\n",
       "      <td>...</td>\n",
       "      <td>...</td>\n",
       "      <td>...</td>\n",
       "      <td>...</td>\n",
       "      <td>...</td>\n",
       "      <td>...</td>\n",
       "      <td>...</td>\n",
       "      <td>...</td>\n",
       "    </tr>\n",
       "    <tr>\n",
       "      <th>205</th>\n",
       "      <td>12.19</td>\n",
       "      <td>13.20</td>\n",
       "      <td>0.8783</td>\n",
       "      <td>5.137</td>\n",
       "      <td>2.981</td>\n",
       "      <td>3.631</td>\n",
       "      <td>4.870</td>\n",
       "      <td>3</td>\n",
       "    </tr>\n",
       "    <tr>\n",
       "      <th>206</th>\n",
       "      <td>11.23</td>\n",
       "      <td>12.88</td>\n",
       "      <td>0.8511</td>\n",
       "      <td>5.140</td>\n",
       "      <td>2.795</td>\n",
       "      <td>4.325</td>\n",
       "      <td>5.003</td>\n",
       "      <td>3</td>\n",
       "    </tr>\n",
       "    <tr>\n",
       "      <th>207</th>\n",
       "      <td>13.20</td>\n",
       "      <td>13.66</td>\n",
       "      <td>0.8883</td>\n",
       "      <td>5.236</td>\n",
       "      <td>3.232</td>\n",
       "      <td>8.315</td>\n",
       "      <td>5.056</td>\n",
       "      <td>3</td>\n",
       "    </tr>\n",
       "    <tr>\n",
       "      <th>208</th>\n",
       "      <td>11.84</td>\n",
       "      <td>13.21</td>\n",
       "      <td>0.8521</td>\n",
       "      <td>5.175</td>\n",
       "      <td>2.836</td>\n",
       "      <td>3.598</td>\n",
       "      <td>5.044</td>\n",
       "      <td>3</td>\n",
       "    </tr>\n",
       "    <tr>\n",
       "      <th>209</th>\n",
       "      <td>12.30</td>\n",
       "      <td>13.34</td>\n",
       "      <td>0.8684</td>\n",
       "      <td>5.243</td>\n",
       "      <td>2.974</td>\n",
       "      <td>5.637</td>\n",
       "      <td>5.063</td>\n",
       "      <td>3</td>\n",
       "    </tr>\n",
       "  </tbody>\n",
       "</table>\n",
       "<p>210 rows × 8 columns</p>\n",
       "</div>"
      ],
      "text/plain": [
       "        V1     V2      V3     V4     V5     V6     V7 Class\n",
       "0    15.26  14.84  0.8710  5.763  3.312  2.221  5.220     1\n",
       "1    14.88  14.57  0.8811  5.554  3.333  1.018  4.956     1\n",
       "2    14.29  14.09  0.9050  5.291  3.337  2.699  4.825     1\n",
       "3    13.84  13.94  0.8955  5.324  3.379  2.259  4.805     1\n",
       "4    16.14  14.99  0.9034  5.658  3.562  1.355  5.175     1\n",
       "..     ...    ...     ...    ...    ...    ...    ...   ...\n",
       "205  12.19  13.20  0.8783  5.137  2.981  3.631  4.870     3\n",
       "206  11.23  12.88  0.8511  5.140  2.795  4.325  5.003     3\n",
       "207  13.20  13.66  0.8883  5.236  3.232  8.315  5.056     3\n",
       "208  11.84  13.21  0.8521  5.175  2.836  3.598  5.044     3\n",
       "209  12.30  13.34  0.8684  5.243  2.974  5.637  5.063     3\n",
       "\n",
       "[210 rows x 8 columns]"
      ]
     },
     "execution_count": 28,
     "metadata": {},
     "output_type": "execute_result"
    }
   ],
   "source": [
    "with open('data/phpPrh7lv.arff', 'r') as file:\n",
    "    arff_data = arff.load(file)\n",
    "\n",
    "data = pd.DataFrame(arff_data['data'], columns=[i[0] for i in arff_data['attributes']])\n",
    "data"
   ]
  },
  {
   "cell_type": "markdown",
   "metadata": {},
   "source": [
    "# Preprocessing\n",
    "\n",
    "* **English version**: The code performs data pre-processing, removing missing values, scaling the data to a specific range and normalizing it in a DataFrame using the MinMaxScaler function from the scikit-learn library. First, missing values are removed from the data set. Next, the data is scaled between 0 and 1. Finally, the normalized data is organized in a DataFrame, using the column names from a set of attributes.\n",
    "\n",
    "* **Portuguese version**: O código realiza o pré-processamento de dados, removendo valores ausentes, escalando os dados para um intervalo específico e normalizando-os em um DataFrame utilizando a função MinMaxScaler da biblioteca scikit-learn. Primeiro, os valores ausentes são removidos do conjunto de dados. Em seguida, os dados são escalados entre 0 e 1. Por fim, os dados normalizados são organizados em um DataFrame, utilizando os nomes das colunas provenientes de um conjunto de atributos."
   ]
  },
  {
   "cell_type": "code",
   "execution_count": 29,
   "metadata": {},
   "outputs": [],
   "source": [
    "data_without_nan = data.dropna()\n",
    "scaler = MinMaxScaler(feature_range=(0,1))\n",
    "scaled_data = scaler.fit_transform(data_without_nan)\n",
    "data_normalized = pd.DataFrame(scaled_data, columns=[i[0] for i in arff_data['attributes']])\n"
   ]
  },
  {
   "cell_type": "markdown",
   "metadata": {},
   "source": [
    "# Data splitting\n",
    "\n",
    "* **English version**: This code snippet splits a normalized data set into training and test sets using the train_test_split function. The data_normalized variable contains the data to be split, the test_size parameter determines the proportion of the test set (4.7% in this case) and random_state sets the seed for randomness in splitting the data, ensuring reproducibility of the results. The train and test variables store the training and test data sets respectively.\n",
    "\n",
    "* **Portuguese version**: Esse trecho de código divide um conjunto de dados normalizados em conjuntos de treino e teste usando a função train_test_split. A variável data_normalized contém os dados a serem divididos, o parâmetro test_size determina a proporção do conjunto de teste (4.7% neste caso) e random_state define a semente para a aleatoriedade na divisão dos dados, garantindo reprodutibilidade dos resultados. As variáveis train e test armazenam os conjuntos de dados de treino e teste, respectivamente."
   ]
  },
  {
   "cell_type": "code",
   "execution_count": 30,
   "metadata": {},
   "outputs": [],
   "source": [
    "\n",
    "train, test = train_test_split(data_normalized, test_size=0.047, random_state=1)"
   ]
  },
  {
   "cell_type": "markdown",
   "metadata": {},
   "source": [
    "# Learning techniques"
   ]
  },
  {
   "cell_type": "markdown",
   "metadata": {},
   "source": [
    "## Decision tree\n",
    "\n",
    "* **English version**: The code trains and uses a Decision Tree for classification. First, the training data is prepared by removing the 'Class' column for attributes (x_train) and defining 'Class' as the target (y_train). Next, a Decision Tree is initialized and trained with the training data. After training, the test data is prepared in the same way and used to make predictions using the trained Decision Tree. The predictions are stored in the 'predictions' variable.\n",
    "\n",
    "* **Portuguese version**: O código realiza o treinamento e uso de uma Árvore de Decisão para classificação. Primeiro, os dados de treino são preparados, removendo a coluna 'Class' para atributos (x_train) e definindo 'Class' como o alvo (y_train). Em seguida, uma Árvore de Decisão é inicializada e treinada com os dados de treino. Após o treinamento, os dados de teste são preparados da mesma forma e usados para fazer previsões usando a Árvore de Decisão treinada. As previsões são armazenadas na variável 'predictions'."
   ]
  },
  {
   "cell_type": "code",
   "execution_count": 31,
   "metadata": {},
   "outputs": [
    {
     "data": {
      "text/plain": [
       "array([0, 1, 0, 1, 0, 0, 0, 1, 1, 1])"
      ]
     },
     "execution_count": 31,
     "metadata": {},
     "output_type": "execute_result"
    }
   ],
   "source": [
    "x_train = train.drop('Class', axis=1)\n",
    "y_train = train['Class'].astype('int')\n",
    "\n",
    "decision_tree = DecisionTreeClassifier()\n",
    "decision_tree.fit(x_train, y_train)\n",
    "\n",
    "\n",
    "x_test = test.drop('Class', axis=1)\n",
    "predictions = decision_tree.predict(x_test)\n",
    "# 5 - Decision Tree\n",
    "predictions"
   ]
  },
  {
   "cell_type": "markdown",
   "metadata": {},
   "source": [
    "## Gaussian Bayes\n",
    "\n",
    "* **English version**: This code snippet implements a Gaussian Naive Bayes classifier. The model is created using the GaussianNB() class and trained with training data x_train and their respective labels y_train using the fit() method. Predictions are then made using the test data set x_test using the predict() method and stored in the bayes_predictions variable. The line commented with #5 - Naive Bayes possibly suggests a marking or reference to indicate the type of algorithm used.\n",
    "\n",
    "* **Portuguese version**: Este trecho de código realiza a implementação de um classificador Naive Bayes Gaussiano. O modelo é criado usando a classe GaussianNB() e treinado com dados de treinamento x_train e seus respectivos rótulos y_train usando o método fit(). Em seguida, são feitas previsões utilizando o conjunto de dados de teste x_test por meio do método predict() e armazenadas na variável bayes_predictions. A linha comentada com # 5 - Naive Bayes sugere possivelmente uma marcação ou referência para indicar o tipo de algoritmo utilizado."
   ]
  },
  {
   "cell_type": "code",
   "execution_count": 32,
   "metadata": {},
   "outputs": [
    {
     "data": {
      "text/plain": [
       "array([0, 1, 0, 1, 0, 0, 0, 1, 1, 1])"
      ]
     },
     "execution_count": 32,
     "metadata": {},
     "output_type": "execute_result"
    }
   ],
   "source": [
    "\n",
    "bayes_classifier = GaussianNB()\n",
    "bayes_classifier.fit(x_train, y_train)\n",
    "\n",
    "bayes_predictions = bayes_classifier.predict(x_test)\n",
    "# 5 - Naive Bayes\n",
    "bayes_predictions"
   ]
  },
  {
   "cell_type": "markdown",
   "metadata": {},
   "source": [
    "## SVM\n",
    "\n",
    "\n",
    "* **English version**: This code uses an SVM (support vector machine) classifier to make predictions on a data set. First, the SVM is instantiated using SVC(). It is then trained with the training data (x_train) and its respective labels (y_train) using the fit() method. It then uses the trained model to make predictions on the test data (x_test) using predict(), and the resulting predictions are stored in the svm_predictions variable. Comment #5 - SVM indicates the section of the code related to the predictions made by the SVM.\n",
    "\n",
    "* **Portuguese version**: Este código emprega um classificador SVM (máquina de vetores de suporte) para realizar previsões em um conjunto de dados. Primeiro, o SVM é instanciado usando SVC(). Em seguida, é treinado com os dados de treinamento (x_train) e seus respectivos rótulos (y_train) por meio do método fit(). Posteriormente, utiliza o modelo treinado para fazer previsões nos dados de teste (x_test) usando predict(), e as previsões resultantes são armazenadas na variável svm_predictions. O comentário # 5 - SVM indica a seção do código relacionada às previsões feitas pelo SVM."
   ]
  },
  {
   "cell_type": "code",
   "execution_count": 33,
   "metadata": {},
   "outputs": [
    {
     "data": {
      "text/plain": [
       "array([0, 1, 0, 1, 0, 0, 0, 1, 1, 1])"
      ]
     },
     "execution_count": 33,
     "metadata": {},
     "output_type": "execute_result"
    }
   ],
   "source": [
    "svm_classifier = SVC()\n",
    "svm_classifier.fit(x_train, y_train)\n",
    "\n",
    "svm_predictions = svm_classifier.predict(x_test)\n",
    "\n",
    "# 5 - SVM \n",
    "svm_predictions"
   ]
  },
  {
   "cell_type": "markdown",
   "metadata": {},
   "source": [
    "# Accuracy\n",
    "\n",
    "* **English version**: This code evaluates the accuracy of three machine learning models - Decision Tree, Naive Bayes and SVM - against a set of test data. It extracts the actual answers from the test, converting the values in the 'Class' column to integer. It then calculates the accuracy of each model by comparing the actual responses with their corresponding predictions. Finally, it displays the accuracy of each model: Decision Tree, Naive Bayes and SVM.\n",
    "\n",
    "* **Portuguese version**: Este código avalia a precisão de três modelos de machine learning - Decision Tree, Naive Bayes e SVM - em relação a um conjunto de dados de teste. Extrai as respostas reais do teste, convertendo os valores da coluna 'Class' para inteiro. Em seguida, calcula a precisão de cada modelo comparando as respostas reais com suas previsões correspondentes. Por fim, exibe a precisão de cada modelo: Decision Tree, Naive Bayes e SVM."
   ]
  },
  {
   "cell_type": "code",
   "execution_count": 43,
   "metadata": {},
   "outputs": [
    {
     "name": "stdout",
     "output_type": "stream",
     "text": [
      "Decision Tree:  1.0\n",
      "Naive Bayes:  1.0\n",
      "SVM:  1.0\n"
     ]
    }
   ],
   "source": [
    "answer = test['Class'].astype('int').values\n",
    "\n",
    "\n",
    "tree = accuracy_score(answer, predictions)\n",
    "bayes = accuracy_score(answer, bayes_predictions)\n",
    "svm = accuracy_score(answer, svm_predictions)\n",
    "\n",
    "print('Decision Tree: ', tree)\n",
    "print('Naive Bayes: ', bayes)\n",
    "print('SVM: ', svm)\n",
    "\n"
   ]
  }
 ],
 "metadata": {
  "kernelspec": {
   "display_name": "Python 3",
   "language": "python",
   "name": "python3"
  },
  "language_info": {
   "codemirror_mode": {
    "name": "ipython",
    "version": 3
   },
   "file_extension": ".py",
   "mimetype": "text/x-python",
   "name": "python",
   "nbconvert_exporter": "python",
   "pygments_lexer": "ipython3",
   "version": "3.10.12"
  }
 },
 "nbformat": 4,
 "nbformat_minor": 2
}
